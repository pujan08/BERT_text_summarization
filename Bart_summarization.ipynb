{
 "cells": [
  {
   "cell_type": "code",
   "execution_count": 1,
   "id": "8b97e408",
   "metadata": {},
   "outputs": [],
   "source": [
    "#include libraries\n",
    "import sentencepiece\n",
    "import requests\n",
    "from bs4 import BeautifulSoup\n",
    "import torch\n"
   ]
  },
  {
   "cell_type": "code",
   "execution_count": 2,
   "id": "f1c55a04",
   "metadata": {},
   "outputs": [
    {
     "name": "stderr",
     "output_type": "stream",
     "text": [
      "C:\\ProgramData\\anaconda3\\Lib\\site-packages\\transformers\\utils\\generic.py:260: UserWarning: torch.utils._pytree._register_pytree_node is deprecated. Please use torch.utils._pytree.register_pytree_node instead.\n",
      "  torch.utils._pytree._register_pytree_node(\n"
     ]
    }
   ],
   "source": [
    "#load bart model\n",
    "from transformers import BartForConditionalGeneration, BartTokenizer"
   ]
  },
  {
   "cell_type": "code",
   "execution_count": 3,
   "id": "5ebd4692",
   "metadata": {},
   "outputs": [],
   "source": [
    "# Function to retrieve text from the provided URL\n",
    "def get_text_from_url(url):\n",
    "    # Fetch HTML content from the URL\n",
    "    response = requests.get(url)\n",
    "    html_content = response.text\n",
    "    \n",
    "    # Parse HTML using BeautifulSoup and extract text\n",
    "    soup = BeautifulSoup(html_content, 'html.parser')\n",
    "    paragraphs = soup.find_all('p')  # Extract text from paragraphs\n",
    "    text = ' '.join([p.get_text() for p in paragraphs if p.get_text()])  # Concatenate non-empty paragraphs\n",
    "    \n",
    "    return text"
   ]
  },
  {
   "cell_type": "code",
   "execution_count": 4,
   "id": "089bf9f3",
   "metadata": {},
   "outputs": [],
   "source": [
    "def summarize_with_bart(text, max_length=1000, min_length=500, model_name=\"facebook/bart-large-cnn\"):\n",
    "    tokenizer = BartTokenizer.from_pretrained(model_name)\n",
    "    model = BartForConditionalGeneration.from_pretrained(model_name)\n",
    "\n",
    "    # Tokenize input text\n",
    "    inputs = tokenizer([text], max_length=1024, return_tensors=\"pt\", truncation=True)\n",
    "\n",
    "    # Generate summary\n",
    "    summary_ids = model.generate(inputs[\"input_ids\"], max_length=max_length, min_length=min_length, num_beams=4, early_stopping=True)\n",
    "    summary = tokenizer.decode(summary_ids[0], skip_special_tokens=True)\n",
    "\n",
    "    return summary\n"
   ]
  },
  {
   "cell_type": "code",
   "execution_count": 5,
   "id": "11223c2d",
   "metadata": {},
   "outputs": [],
   "source": [
    "# URL to extract text from\n",
    "url = \"https://en.wikipedia.org/wiki/Automatic_summarization\""
   ]
  },
  {
   "cell_type": "code",
   "execution_count": 6,
   "id": "4ca96bf3",
   "metadata": {},
   "outputs": [],
   "source": [
    "# Fetch text from URL\n",
    "text = get_text_from_url(url)"
   ]
  },
  {
   "cell_type": "code",
   "execution_count": 7,
   "id": "ba547746",
   "metadata": {},
   "outputs": [],
   "source": [
    "# Summarize the text using BART\n",
    "summary = summarize_with_bart(text)"
   ]
  },
  {
   "cell_type": "code",
   "execution_count": null,
   "id": "da804bfd",
   "metadata": {},
   "outputs": [],
   "source": [
    "# Print the summary\n",
    "print(\"Summary:\", summary)"
   ]
  }
 ],
 "metadata": {
  "kernelspec": {
   "display_name": "Python 3 (ipykernel)",
   "language": "python",
   "name": "python3"
  },
  "language_info": {
   "codemirror_mode": {
    "name": "ipython",
    "version": 3
   },
   "file_extension": ".py",
   "mimetype": "text/x-python",
   "name": "python",
   "nbconvert_exporter": "python",
   "pygments_lexer": "ipython3",
   "version": "3.11.5"
  }
 },
 "nbformat": 4,
 "nbformat_minor": 5
}
