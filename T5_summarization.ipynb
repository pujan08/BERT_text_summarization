{
 "cells": [
  {
   "cell_type": "code",
   "execution_count": 1,
   "id": "c9096d77",
   "metadata": {},
   "outputs": [
    {
     "name": "stderr",
     "output_type": "stream",
     "text": [
      "C:\\ProgramData\\anaconda3\\Lib\\site-packages\\transformers\\utils\\generic.py:260: UserWarning: torch.utils._pytree._register_pytree_node is deprecated. Please use torch.utils._pytree.register_pytree_node instead.\n",
      "  torch.utils._pytree._register_pytree_node(\n"
     ]
    }
   ],
   "source": [
    "#include libraries and load t5 model\n",
    "import requests\n",
    "from bs4 import BeautifulSoup\n",
    "from transformers import AutoTokenizer, T5ForConditionalGeneration"
   ]
  },
  {
   "cell_type": "code",
   "execution_count": 8,
   "id": "00ee2573",
   "metadata": {},
   "outputs": [],
   "source": [
    "# Function to retrieve text from the provided URL\n",
    "def get_text_from_url(url):\n",
    "    # Fetch HTML content from the URL\n",
    "    response = requests.get(url)\n",
    "    html_content = response.text\n",
    "    \n",
    "    # Parse HTML using BeautifulSoup and extract text\n",
    "    soup = BeautifulSoup(html_content, 'html.parser')\n",
    "    paragraphs = soup.find_all('p')  # Extract text from paragraphs\n",
    "    text = ' '.join([p.get_text() for p in paragraphs if p.get_text()])  # Concatenate non-empty paragraphs\n",
    "    \n",
    "    return text"
   ]
  },
  {
   "cell_type": "code",
   "execution_count": 9,
   "id": "4213f1fb",
   "metadata": {},
   "outputs": [],
   "source": [
    "# Function to summarize text using T5\n",
    "def summarize_with_t5(text, max_length=1000, min_length=100, model_name=\"t5-small\"):\n",
    "    tokenizer = AutoTokenizer.from_pretrained(model_name)\n",
    "    model = T5ForConditionalGeneration.from_pretrained(model_name)\n",
    "\n",
    "    # Tokenize input text\n",
    "    inputs = tokenizer.encode(\"summarize: \" + text, return_tensors=\"pt\", max_length=1024, truncation=True)\n",
    "\n",
    "    # Generate summary\n",
    "    summary_ids = model.generate(inputs, max_length=max_length,min_length=min_length, num_beams=4, early_stopping=True)\n",
    "    summary = tokenizer.decode(summary_ids[0], skip_special_tokens=True)\n",
    "\n",
    "    return summary"
   ]
  },
  {
   "cell_type": "code",
   "execution_count": 10,
   "id": "c29429f4",
   "metadata": {},
   "outputs": [],
   "source": [
    "# URL to extract text from\n",
    "url = \"https://en.wikipedia.org/wiki/Automatic_summarization\""
   ]
  },
  {
   "cell_type": "code",
   "execution_count": 11,
   "id": "2151ad5d",
   "metadata": {},
   "outputs": [],
   "source": [
    "# Fetch text from URL\n",
    "text = get_text_from_url(url)"
   ]
  },
  {
   "cell_type": "code",
   "execution_count": 12,
   "id": "cf98a511",
   "metadata": {},
   "outputs": [],
   "source": [
    "# Summarize the text using T5\n",
    "summary = summarize_with_t5(text)\n"
   ]
  },
  {
   "cell_type": "code",
   "execution_count": null,
   "id": "8d04102c",
   "metadata": {},
   "outputs": [],
   "source": [
    "# Print the summary\n",
    "print(\"Summary:\", summary)"
   ]
  }
 ],
 "metadata": {
  "kernelspec": {
   "display_name": "Python 3 (ipykernel)",
   "language": "python",
   "name": "python3"
  },
  "language_info": {
   "codemirror_mode": {
    "name": "ipython",
    "version": 3
   },
   "file_extension": ".py",
   "mimetype": "text/x-python",
   "name": "python",
   "nbconvert_exporter": "python",
   "pygments_lexer": "ipython3",
   "version": "3.11.5"
  }
 },
 "nbformat": 4,
 "nbformat_minor": 5
}
